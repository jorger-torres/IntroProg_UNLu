{
 "nbformat": 4,
 "nbformat_minor": 2,
 "metadata": {
  "language_info": {
   "name": "python",
   "codemirror_mode": {
    "name": "ipython",
    "version": 3
   },
   "version": "3.7.5-final"
  },
  "orig_nbformat": 2,
  "file_extension": ".py",
  "mimetype": "text/x-python",
  "name": "python",
  "npconvert_exporter": "python",
  "pygments_lexer": "ipython3",
  "version": 3,
  "kernelspec": {
   "name": "python3",
   "display_name": "Python 3"
  }
 },
 "cells": [
  {
   "cell_type": "markdown",
   "execution_count": null,
   "metadata": {},
   "outputs": [],
   "source": [
    "<a href=\"https://colab.research.google.com/github/jumafernandez/IntroProg_UNLu/blob/master/nbs_laboratorio/03_Bucles.ipynb\"\n",
    "   target=\"_parent\" style=\"float: left\">\n",
    "<img src=\"https://colab.research.google.com/assets/colab-badge.svg\" alt=\"Open In Colab\"/>\n",
    "</a>\n",
    "\n",
    "# Bucles, Ciclos, Iteraciones, Loops, etc... (Estructuras Iterativas)\n",
    "---\n",
    "\n",
    "**El bloque _for_ y _range_:**"
   ]
  },
  {
   "cell_type": "code",
   "execution_count": null,
   "metadata": {},
   "outputs": [],
   "source": [
    "# Una estructura repetitiva *for* repite una acción una cantidad definida de veces.\n",
    "# Normalmente es utilizado para procesar elementos en una lista.\n",
    "# Por ahora aprenderemos su uso más básico con el expresión *range*\n",
    "\n",
    "def sumarDesdeMHastaN(m, n):\n",
    "    total = 0\n",
    "    # Notar que range(x, y) incluye x pero excluye y\n",
    "    for x in range(m, n+1):\n",
    "        total += x\n",
    "    return total\n",
    "\n",
    "print(sumarDesdeMHastaN(5, 10) == 5+6+7+8+9+10)"
   ]
  },
  {
   "cell_type": "markdown",
   "execution_count": null,
   "metadata": {},
   "outputs": [],
   "source": [
    "**De hecho, no necesitamos un bucle aquí...**"
   ]
  },
  {
   "cell_type": "code",
   "execution_count": null,
   "metadata": {},
   "outputs": [],
   "source": [
    "def sumarDesdeMHastaN(m, n):\n",
    "    return sum(range(m, n+1))\n",
    "\n",
    "print(sumarDesdeMHastaN(5, 10) == 5+6+7+8+9+10)\n",
    "\n",
    "# Y hasta podemos hacerlo con un helper, sería la \n",
    "# manera más rápida, pero no nos ayuda a demostrar bucles.\n",
    "\n",
    "def sumarHastaN(n):\n",
    "    # helper\n",
    "    return n*(n+1)//2\n",
    "\n",
    "def sumarDesdeMHastaN_porFormula(m, n):\n",
    "    return (sumarHastaN(n) - sumarHastaN(m-1))\n",
    "\n",
    "print(sumFromMToN_porFormula(5, 10) == 5+6+7+8+9+10)"
   ]
  },
  {
   "cell_type": "markdown",
   "execution_count": null,
   "metadata": {},
   "outputs": [],
   "source": [
    "**Como sería si omitimos el primer parametro?**"
   ]
  },
  {
   "cell_type": "code",
   "execution_count": null,
   "metadata": {},
   "outputs": [],
   "source": [
    "def sumarHastaN(n):\n",
    "    total = 0\n",
    "    # por default range comienza en 0\n",
    "    for x in range(n+1):\n",
    "        total += x\n",
    "    return total\n",
    "\n",
    "print(sumarHastaN(5) == 0+1+2+3+4+5)"
   ]
  },
  {
   "cell_type": "markdown",
   "execution_count": null,
   "metadata": {},
   "outputs": [],
   "source": [
    "**Y el tercer parámetro de range?**"
   ]
  },
  {
   "cell_type": "code",
   "execution_count": null,
   "metadata": {},
   "outputs": [],
   "source": [
    "def sumarCadaKDesdeMHastaN(m, n, k):\n",
    "    total = 0\n",
    "    # el tercer parámetro es el paso (step)\n",
    "    for x in range(m, n+1, k):\n",
    "        total += x\n",
    "    return total\n",
    "\n",
    "print(sumarCadaKDesdeMHastaN(5, 20, 7) == (5 + 12 + 19))"
   ]
  },
  {
   "cell_type": "markdown",
   "execution_count": null,
   "metadata": {},
   "outputs": [],
   "source": [
    "**Sumar los números impares desde M hasta N**"
   ]
  },
  {
   "cell_type": "code",
   "execution_count": null,
   "metadata": {},
   "outputs": [],
   "source": [
    "# También podemos cambiar el paso procesando dentro del bucle\n",
    "def sumarImparesDesdeMHastaN(m, n):\n",
    "    total = 0\n",
    "    for x in range(m, n+1):\n",
    "        if (x % 2 == 1):\n",
    "            total += x\n",
    "    return total\n",
    "\n",
    "print(sumarImparesDesdeMHastaN(4, 10) == sumarImparesDesdeMHastaN(5,9) == (5+7+9))"
   ]
  },
  {
   "cell_type": "markdown",
   "execution_count": null,
   "metadata": {},
   "outputs": [],
   "source": [
    "**Ahora de atrás para adelante**"
   ]
  },
  {
   "cell_type": "code",
   "execution_count": null,
   "metadata": {},
   "outputs": [],
   "source": [
    "# range también nos permite usarlo de manera descendente\n",
    "# (No es util ahora, pero sirve de ejemplo)\n",
    "def sumarImparesDesdeMHastaN(m, n):\n",
    "    total = 0\n",
    "    for x in range(n, m-1, -1):\n",
    "        if (x % 2 == 1):\n",
    "            total += x\n",
    "    return total\n",
    "\n",
    "print(sumarImparesDesdeMHastaN(4, 10) == sumarImparesDesdeMHastaN(5,9) == (5+7+9))"
   ]
  },
  {
   "cell_type": "markdown",
   "execution_count": null,
   "metadata": {},
   "outputs": [],
   "source": [
    "**Bucles enlazados**"
   ]
  },
  {
   "cell_type": "code",
   "execution_count": null,
   "metadata": {},
   "outputs": [],
   "source": [
    "# Podemos agregar bucles un dentro de otro para repetir acciones\n",
    "# en múltiples niveles.\n",
    "# Esto imprime un sistema de coordenadas.\n",
    "\n",
    "def imprimirSistemasDeCoordenadas(xMax, yMax):\n",
    "    for x in range(xMax+1):\n",
    "        for y in range(yMax+1):\n",
    "            print(\"(\", x, \",\", y, \")  \", end=\"\")\n",
    "        print()\n",
    "\n",
    "imprimirSistemasDeCoordenadas(4, 5)"
   ]
  },
  {
   "cell_type": "markdown",
   "metadata": {},
   "source": [
    "**Otro ejemplo**"
   ],
   "execution_count": null,
   "outputs": []
  },
  {
   "cell_type": "code",
   "execution_count": null,
   "metadata": {},
   "outputs": [],
   "source": [
    "def imprimirRectanguloDeAsteriscos(n):\n",
    "    # Imprime un rectángulo de nxn de asteriscos\n",
    "    for row in range(n):\n",
    "        for col in range(n):\n",
    "            print(\"*\", end=\"\")\n",
    "        print()\n",
    "\n",
    "imprimirRectanguloDeAsteriscos(5)"
   ]
  },
  {
   "cell_type": "markdown",
   "metadata": {},
   "source": [
    "**...y otro más**"
   ],
   "execution_count": null,
   "outputs": []
  },
  {
   "cell_type": "code",
   "execution_count": null,
   "metadata": {},
   "outputs": [],
   "source": [
    "# Qué hace esto? Con cuidado y siendo preciso!\n",
    "\n",
    "def dibujarMisteriosaFigura(n):\n",
    "    for fila in range(n):\n",
    "        print(fila, end=\" \")\n",
    "        for columna in range(fila):\n",
    "            print(\"*\", end=\" \")\n",
    "        print()\n",
    "\n",
    "dibujarMisteriosaFigura(5)"
   ]
  },
  {
   "cell_type": "markdown",
   "metadata": {},
   "source": [
    "**El bloque _while_**"
   ],
   "execution_count": null,
   "outputs": []
  },
  {
   "cell_type": "code",
   "execution_count": null,
   "metadata": {},
   "outputs": [],
   "source": [
    "# Usar bucles \"while\" cuando hay un indeterminado número de iteraciones.\n",
    "# Cuidado con esto! Por qué?\n",
    "\n",
    "def digitoDeLaIzquierda(n):\n",
    "    n = abs(n)\n",
    "    while (n >= 10):\n",
    "        n = n//10\n",
    "        print(n)\n",
    "    return n\n",
    "\n",
    "print(digitoDeLaIzquierda(72658489290098) == 7)"
   ]
  },
  {
   "cell_type": "markdown",
   "metadata": {},
   "source": [
    "**Ejemplo: el _enésimo_ entero no negativo con alguna propiedad**"
   ],
   "execution_count": null,
   "outputs": []
  },
  {
   "cell_type": "code",
   "execution_count": null,
   "metadata": {},
   "outputs": [],
   "source": [
    "# eg: Encontrar el enésimo número que es multiplo de 4 o de 7\n",
    "def esMultiploDe4o7(x):\n",
    "    return ((x % 4) == 0) or ((x % 7) == 0)\n",
    "\n",
    "def enesimoMultiploDe4o7(n):\n",
    "    encontrado = 0\n",
    "    adivinado = -1\n",
    "    while (encontrado <= n):\n",
    "        adivinado += 1\n",
    "        if (esMultiploDe4o7(adivinado)):\n",
    "            encontrado += 1\n",
    "    return adivinado\n",
    "\n",
    "print(\"Multiplos de 4 o 7: \", end=\"\")\n",
    "for n in range(15):\n",
    "    print(enesimoMultiploDe4o7(n), end=\" \")\n",
    "print()"
   ]
  },
  {
   "cell_type": "markdown",
   "metadata": {},
   "source": [
    "**Mal uso: bucle _while_ en un rango fijo**"
   ],
   "execution_count": null,
   "outputs": []
  },
  {
   "cell_type": "code",
   "execution_count": null,
   "metadata": {},
   "outputs": [],
   "source": [
    "# sumar los números del 1 al 10\n",
    "\n",
    "def sumarHastaN(n):\n",
    "    \"\"\"\n",
    "        TODO: más allá de que funcione, no es un buen estilo.\n",
    "        Deberíamos usar un bucle \"for\" y no un bucle \"while\".\n",
    "    \"\"\"\n",
    "    total = 0\n",
    "    contador = 1\n",
    "    while (contador <= n):\n",
    "        total += contador\n",
    "        contador += 1\n",
    "    return total\n",
    "\n",
    "print(sumarHastaN(5) == 1+2+3+4+5)"
   ]
  },
  {
   "cell_type": "markdown",
   "metadata": {},
   "source": [
    "**Otro mal uso: (aunque el lenguaje lo permita!) _break_, _continue_ y _pass_**"
   ],
   "execution_count": null,
   "outputs": []
  },
  {
   "cell_type": "code",
   "execution_count": null,
   "metadata": {},
   "outputs": [],
   "source": [
    "# continue, break, y pass son tres keywords (palabras reservadas) \n",
    "# usadas en bucles para cambiar el flujo del programa.\n",
    "for n in range(200):\n",
    "    if (n % 3 == 0):\n",
    "        continue # saltea el resto de la ejecución de esta vuelta\n",
    "    elif (n == 8):\n",
    "        break # saltea el resto del bucle, ya no sigue iterando.\n",
    "    else:\n",
    "        pass # no hace nada, suelen llamarse \"placeholders\", no es necesario aquí\n",
    "    print(n, end=\" \")\n",
    "print()"
   ]
  },
  {
   "cell_type": "markdown",
   "metadata": {},
   "source": [
    "**Bucle Infinito con _break_**"
   ],
   "execution_count": null,
   "outputs": []
  },
  {
   "cell_type": "code",
   "execution_count": 9,
   "metadata": {},
   "outputs": [
    {
     "output_type": "stream",
     "name": "stdout",
     "text": "Usted ingresó:  asd\n  Usted ingresó:  asda\n  Usted ingresó:  asdasd\n  Usted ingresó:  asdasd\nChau!\nUsted ingreso 4 lineas (sin incluir 'listo').\n"
    }
   ],
   "source": [
    "# Nota- esto es un uso avanzado.\n",
    "# No hace falta entender todo el contenido\n",
    "\n",
    "def leerHastaListo():\n",
    "    lineas_ingresadas = 0\n",
    "    while (True):\n",
    "        texto = input(\"Ingrese un texto (o 'listo' para salir): \")\n",
    "        if (texto == \"listo\"):\n",
    "            break\n",
    "        print(\"- Usted ingresó: \", texto)\n",
    "        lineas_ingresadas += 1\n",
    "    print(\"Chau!\")\n",
    "    return lineas_ingresadas\n",
    "\n",
    "cant_lineas = leerHastaListo()\n",
    "print(\"Usted ingreso\", cant_lineas, \"lineas (sin incluir 'listo').\")"
   ]
  },
  {
   "cell_type": "markdown",
   "metadata": {},
   "source": [],
   "execution_count": null,
   "outputs": []
  },
  {
   "cell_type": "code",
   "execution_count": null,
   "metadata": {},
   "outputs": [],
   "source": [
    "# Note: there are faster/better ways.  We're just going for clarity and simplicity here.\n",
    "def isPrime(n):\n",
    "    if (n < 2):\n",
    "        return False\n",
    "    for factor in range(2,n):\n",
    "        if (n % factor == 0):\n",
    "            return False\n",
    "    return True\n",
    "\n",
    "# And take it for a spin\n",
    "for n in range(100):\n",
    "    if isPrime(n):\n",
    "        print(n, end=\" \")\n",
    "print()"
   ]
  },
  {
   "cell_type": "markdown",
   "metadata": {},
   "source": [
    "**Otra versión, _esPrimoRapido_**"
   ],
   "execution_count": null,
   "outputs": []
  },
  {
   "cell_type": "code",
   "execution_count": null,
   "metadata": {},
   "outputs": [],
   "source": [
    "# Nota: esto no es la manera más rápida, pero es una buena mejora.\n",
    "\n",
    "def esPrimoRapido(n):\n",
    "    if (n < 2):\n",
    "        return False\n",
    "    if (n == 2):\n",
    "        return True\n",
    "    if (n % 2 == 0):\n",
    "        return False\n",
    "    maxFactor = round(n**0.5)\n",
    "    for factor in range(3,maxFactor+1,2):\n",
    "        if (n % factor == 0):\n",
    "            return False\n",
    "    return True\n",
    "\n",
    "# y probamos esta versión:\n",
    "for n in range(100):\n",
    "    if esPrimoRapido(n):\n",
    "        print(n, end=\" \")\n",
    "print()"
   ]
  },
  {
   "cell_type": "markdown",
   "metadata": {},
   "source": [
    "**Verificando si _esPrimoRapido_ es rápido :)**"
   ],
   "execution_count": null,
   "outputs": []
  },
  {
   "cell_type": "code",
   "execution_count": null,
   "metadata": {},
   "outputs": [],
   "source": [
    "def esPrimo(n):\n",
    "    if (n < 2):\n",
    "        return False\n",
    "    for factor in range(2,n):\n",
    "        if (n % factor == 0):\n",
    "            return False\n",
    "    return True\n",
    "\n",
    "def esPrimoRapido(n):\n",
    "    if (n < 2):\n",
    "        return False\n",
    "    if (n == 2):\n",
    "        return True\n",
    "    if (n % 2 == 0):\n",
    "        return False\n",
    "    maxFactor = round(n**0.5)\n",
    "    for factor in range(3,maxFactor+1,2):\n",
    "        if (n % factor == 0):\n",
    "            return False\n",
    "    return True\n",
    "\n",
    "# Verificamos que hacen lo mismo\n",
    "for n in range(100):\n",
    "    assert(esPrimo(n) == esPrimoRapido(n))\n",
    "print(\"Parece que funcionan igual!\")\n",
    "\n",
    "# Ahora veamos si realmente es más veloz\n",
    "import time\n",
    "unPrimoGrande = 499 # probar 1010809, o 10101023, o 102030407\n",
    "print(\"Cronometrando esPrimo(\",unPrimoGrande,\")\", end=\" \")\n",
    "time0 = time.time()\n",
    "print(\", retorna \", esPrimo(unPrimoGrande), end=\" \")\n",
    "time1 = time.time()\n",
    "print(\", tiempo = \",(time1-time0)*1000,\"ms\")\n",
    "\n",
    "print(\"Cronometrando esPrimoRapido(\",unPrimoGrande,\")\", end=\" \")\n",
    "time0 = time.time()\n",
    "print(\", retorna \", esPrimoRapido(unPrimoGrande), end=\" \")\n",
    "time1 = time.time()\n",
    "print(\", tiempo = \",(time1-time0)*1000,\"ms\")"
   ]
  },
  {
   "cell_type": "markdown",
   "metadata": {},
   "source": [
    "**El enésimo número primo**"
   ],
   "execution_count": null,
   "outputs": []
  },
  {
   "cell_type": "code",
   "execution_count": null,
   "metadata": {},
   "outputs": [],
   "source": [
    "def esPrimo(n):\n",
    "    if (n < 2):\n",
    "        return False\n",
    "    if (n == 2):\n",
    "        return True\n",
    "    if (n % 2 == 0):\n",
    "        return False\n",
    "    maxFactor = round(n**0.5)\n",
    "    for factor in range(3,maxFactor+1,2):\n",
    "        if (n % factor == 0):\n",
    "            return False\n",
    "    return True\n",
    "\n",
    "# Adaptando al \"enésimo\" pattern we used above in nthMultipleOf4or7()\n",
    "\n",
    "def nthPrime(n):\n",
    "    encontrado = 0\n",
    "    adiviado = 0\n",
    "    while (encontrado <= n):\n",
    "        adiviado += 1\n",
    "        if (esPrimo(adiviado)):\n",
    "            encontrado += 1\n",
    "    return adiviado\n",
    "\n",
    "# and let's see a list of the primes\n",
    "for n in range(10):\n",
    "    print(n, nthPrime(n))\n",
    "print(\"Done!\")"
   ]
  }
 ]
}